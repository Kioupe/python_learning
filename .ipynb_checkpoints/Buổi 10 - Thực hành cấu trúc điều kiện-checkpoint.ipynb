{
 "cells": [
  {
   "cell_type": "markdown",
   "id": "dcdb816e",
   "metadata": {},
   "source": [
    "# Thực hành cấu trúc điều khiển\n",
    "\n",
    "### Bài 1\n",
    "\n",
    "Cho phương trình bậc 2: ax^2 + bx + c = 0\n",
    "\n",
    "Nhập a, b, c\n",
    "\n",
    "Giải và biện luận phương trình trên"
   ]
  },
  {
   "cell_type": "code",
   "execution_count": 26,
   "id": "b5a5c325",
   "metadata": {},
   "outputs": [
    {
     "name": "stdout",
     "output_type": "stream",
     "text": [
      "Nhập a:4\n",
      "Nhập b:0\n",
      "Nhập c:2\n"
     ]
    }
   ],
   "source": [
    "a=int(input(\"Nhập a:\"))\n",
    "b=int(input(\"Nhập b:\"))\n",
    "c=int(input(\"Nhập c:\"))\n",
    "if a==0:\n",
    "    if b==0:\n",
    "        print(\"Phương trình vô nghiệm\")\n",
    "    else:\n",
    "        x1=(-1*c)/b\n",
    "        print(\"phương trình có một nghiệm x=\",x1)\n",
    "elif b==0:\n",
    "    x1=(c/a)**0.5\n",
    "    x2=-((c/a)**0.5)\n",
    "    print(\"phương trình có 2 nghiệm x1=\",x1,\",x2=\",x2)\n",
    "else: \n",
    "    delta=b**2-4*a*c\n",
    "    if delta < 0:\n",
    "        print(\"Phương trình vô nghiệm.\")\n",
    "    elif delta==0:\n",
    "        x1=(-1*b)/(2*a)\n",
    "        print(\"phương trình có một nghiệm x=\",x1)\n",
    "    else:\n",
    "        x1=((-1*b)+(delta**(1/2)))/(2*a)\n",
    "        x2=((-1*b)-(delta**(1/2)))/(2*a)\n",
    "        print(\"phương trình có 2 nghiệm x1=\",x1,\",x2=\",x2)"
   ]
  },
  {
   "cell_type": "markdown",
   "id": "6f7d329d",
   "metadata": {},
   "source": [
    "### Bài 2\n",
    "\n",
    "Hãy nhập vào một số\n",
    "\n",
    "Xác định coi đó có phải là số nguyên tố hay không"
   ]
  },
  {
   "cell_type": "code",
   "execution_count": 23,
   "id": "049c85f5",
   "metadata": {},
   "outputs": [
    {
     "name": "stdout",
     "output_type": "stream",
     "text": [
      "Nhập a:15\n",
      "15 không là số nguyên tố\n"
     ]
    }
   ],
   "source": [
    "a=int(input(\"Nhập a:\"))\n",
    "tam=0\n",
    "for i in range(2,a-1):\n",
    "    if a%i==0 & tam==0:\n",
    "        tam=1\n",
    "if tam==0:\n",
    "    print(a,\"là số nguyên tố\")\n",
    "else:\n",
    "    print(a, \"không là số nguyên tố\")"
   ]
  },
  {
   "cell_type": "markdown",
   "id": "75f7717b",
   "metadata": {},
   "source": [
    "### Bài 3\n",
    "\n",
    "Hãy nhập vào số n\n",
    "\n",
    "Hãy đếm số chữ số 0 tận cùng của n giai thừa\n",
    "\n",
    "(Bài này nâng cao, mọi người có thể bỏ qua)"
   ]
  },
  {
   "cell_type": "code",
   "execution_count": 5,
   "id": "789e0e76",
   "metadata": {},
   "outputs": [
    {
     "name": "stdout",
     "output_type": "stream",
     "text": [
      "Nhập n:5\n",
      "giai thừa của n= 120\n",
      "Có 1 chữ số 0 tận cùng của giai thừa của 5\n"
     ]
    }
   ],
   "source": [
    "n=int(input(\"Nhập n:\"))\n",
    "\n",
    "#tính giai thừa\n",
    "giaithua=1\n",
    "for i in range(n):\n",
    "    giaithua*=(i+1)\n",
    "print(\"giai thừa của n=\",giaithua)\n",
    "\n",
    "#kiểm tra đuôi\n",
    "a=str(giaithua)\n",
    "count=0\n",
    "kt=0\n",
    "len_a=len(a)\n",
    "for i in range(len_a):\n",
    "    if a[-i-1].count('0')==1 and kt==0: \n",
    "        count+=1\n",
    "    else:\n",
    "        kt=1\n",
    "print(\"Có\",count,\"chữ số 0 tận cùng của giai thừa của\",n) "
   ]
  },
  {
   "cell_type": "markdown",
   "id": "29cd6c81",
   "metadata": {},
   "source": [
    "### Bài 4\n",
    "\n",
    "In ra tất cả các số chia hết cho 3 nhỏ hơn 100"
   ]
  },
  {
   "cell_type": "code",
   "execution_count": 16,
   "id": "0b848981",
   "metadata": {},
   "outputs": [
    {
     "name": "stdout",
     "output_type": "stream",
     "text": [
      "0\n",
      "3\n",
      "6\n",
      "9\n",
      "12\n",
      "15\n",
      "18\n",
      "21\n",
      "24\n",
      "27\n",
      "30\n",
      "33\n",
      "36\n",
      "39\n",
      "42\n",
      "45\n",
      "48\n",
      "51\n",
      "54\n",
      "57\n",
      "60\n",
      "63\n",
      "66\n",
      "69\n",
      "72\n",
      "75\n",
      "78\n",
      "81\n",
      "84\n",
      "87\n",
      "90\n",
      "93\n",
      "96\n",
      "99\n"
     ]
    }
   ],
   "source": [
    "for i in range(1,100):\n",
    "    if i%3==0:\n",
    "        print(i)"
   ]
  },
  {
   "cell_type": "markdown",
   "id": "04dbf99b",
   "metadata": {},
   "source": [
    "### Bài 5\n",
    "\n",
    "In ra tất cả các số lẻ nhưng không chia hết cho 3 nhỏ hơn 100"
   ]
  },
  {
   "cell_type": "code",
   "execution_count": 22,
   "id": "769eb439",
   "metadata": {},
   "outputs": [
    {
     "name": "stdout",
     "output_type": "stream",
     "text": [
      "1\n",
      "5\n",
      "7\n",
      "11\n",
      "13\n",
      "17\n",
      "19\n",
      "23\n",
      "25\n",
      "29\n",
      "31\n",
      "35\n",
      "37\n",
      "41\n",
      "43\n",
      "47\n",
      "49\n",
      "53\n",
      "55\n",
      "59\n",
      "61\n",
      "65\n",
      "67\n",
      "71\n",
      "73\n",
      "77\n",
      "79\n",
      "83\n",
      "85\n",
      "89\n",
      "91\n",
      "95\n",
      "97\n"
     ]
    }
   ],
   "source": [
    "for i in range(1,100):\n",
    "    if i%3!=0 and i%2==1:\n",
    "        print(i)"
   ]
  },
  {
   "cell_type": "markdown",
   "id": "26dd47fb",
   "metadata": {},
   "source": [
    "### Bài 5\n",
    "\n",
    "Tại một cửa hàng nọ có menu như sau:\n",
    "\n",
    "1. Gà rán giá 35k\n",
    "2. Hamburger giá 50k\n",
    "3. Pesi giá 10k\n",
    "\n",
    "Nhập số lượng món hàng cần mua\n",
    "\n",
    "Tính và in ra tổng giá tiền (hiển thị có dấu chấm mỗi 3 chữ số để người dùng để quan sát)\n",
    "\n",
    "Nếu giá trị đơn hàng trên 2 triệu, giảm 10% cho khách, trên 4 triệu, giảm 15%\n",
    "\n",
    "Tính và in ra tổng giá tiền được giảm (hiển thị có dấu chấm mỗi 3 chữ số để người dùng để quan sát)\n",
    "\n",
    "Tính và in ra tổng giá tiền khách cần trả (hiển thị có dấu chấm mỗi 3 chữ số để người dùng để quan sát)\n",
    "\n",
    "In ra dòng chữ \"Cảm ơn quý khách đã mua hàng\""
   ]
  },
  {
   "cell_type": "code",
   "execution_count": 12,
   "id": "8509df1e",
   "metadata": {},
   "outputs": [
    {
     "name": "stdout",
     "output_type": "stream",
     "text": [
      "MENU \n",
      " 1. Gà rán giá 35k \n",
      " 2. Hamburger giá 50k \n",
      " 3. Pesi giá 10k\n",
      "Bạn muốn mua bao nhiêu gà rán: 50\n",
      "Bạn muốn mua bao nhiêu Hamburger: 56\n",
      "Bạn muốn mua bao nhiêu Pepsi: 41\n",
      "Số tiền được giảm : 744.000\n",
      "Số tiền bạn phải trả: 4.216.000\n"
     ]
    }
   ],
   "source": [
    "print(\"MENU \\n 1. Gà rán giá 35k \\n 2. Hamburger giá 50k \\n 3. Pesi giá 10k\")\n",
    "ga=int(input(\"Bạn muốn mua bao nhiêu gà rán: \"))\n",
    "ham=int(input(\"Bạn muốn mua bao nhiêu Hamburger: \"))\n",
    "pep=int(input(\"Bạn muốn mua bao nhiêu Pepsi: \"))\n",
    "tongtien_tam=ga*35000+ham*50000+pep*10000\n",
    "#print(tongtien)\n",
    "#tính số tiền phải trả và tiền đã giảm\n",
    "if tongtien_tam > 4000000:\n",
    "    tien_giam=tongtien_tam*0.15\n",
    "    tongtien=tongtien_tam-tien_giam\n",
    "elif tongtien_tam > 2000000:\n",
    "    tien_giam=tongtien_tam*0.1\n",
    "    tongtien=tongtien_tam-tien_giam\n",
    "else:\n",
    "    tien_giam=0\n",
    "    tongtien=tongtien_tam\n",
    "    \n",
    "#chuyển về kiểu int\n",
    "tien_giam=int(tien_giam)\n",
    "tongtien=int(tongtien)\n",
    "\n",
    "#hiển thị thêm dấu '.' để quan sát dễ hơn\n",
    "def them_dau(tien): \n",
    "    a=str(tien)\n",
    "    b=len(a)\n",
    "    tam=''\n",
    "    for i in range(b):\n",
    "\n",
    "        if (-i)%3==0 and i!=0:\n",
    "            tam+=\".\"+a[-1-i]\n",
    "        else:\n",
    "            tam+=a[-1-i]\n",
    "    return tam[::-1]\n",
    "\n",
    "#kết quả\n",
    "print(\"Số tiền được giảm :\",them_dau(tien_giam))\n",
    "print(\"Số tiền bạn phải trả:\",them_dau(tongtien))"
   ]
  },
  {
   "cell_type": "markdown",
   "id": "ab10a1ce",
   "metadata": {},
   "source": [
    "### Bài 6\n",
    "\n",
    "Nhập vào chiều cao (cm) và cân nặng (kg), tính số BMI và xét rồi xin kết quả theo dữ liệu sau:\n",
    "\n",
    "- BMI < 16: Gầy cấp độ III\n",
    "- 16 <= BMI < 17:  Gầy cấp độ II\n",
    "- 17<= BMI < 18.5: Gầy cấp độ I\n",
    "- 18.5 <= BMI < 25: Bình thường\n",
    "- 25 <= BMI < 30: Thừa cân\n",
    "- 30 <= BMI < 35 : Béo phì cấp độ I\n",
    "- 35 <= BMI < 40: Béo phì cấp độ II\n",
    "- BMI > 40: Béo phì cấp độ III"
   ]
  },
  {
   "cell_type": "code",
   "execution_count": 15,
   "id": "1058f441",
   "metadata": {},
   "outputs": [
    {
     "name": "stdout",
     "output_type": "stream",
     "text": [
      "Nhập chiều cao (m): 1.64\n",
      "Nhập cân nặng (kg): 42\n",
      "BMI =  15.62 Gầy cấp độ III\n"
     ]
    }
   ],
   "source": [
    "height = float(input(\"Nhập chiều cao (m): \"))\n",
    "weight = float(input(\"Nhập cân nặng (kg): \"))\n",
    "\n",
    "BMI = round(weight/(height**2),2)\n",
    "\n",
    "if BMI >= 40:\n",
    "    print(\"BMI = \",BMI, \"Béo phì cấp độ III\")\n",
    "elif BMI >= 35:\n",
    "    print(\"BMI = \",BMI, \"Béo phì cấp độ II\")\n",
    "elif BMI >= 30:\n",
    "    print(\"BMI = \",BMI, \"Béo phì cấp độ I\")\n",
    "elif BMI >= 25:\n",
    "    print(\"BMI = \",BMI, \"Thừa cân\")\n",
    "elif BMI >= 18.5:\n",
    "    print(\"BMI = \",BMI, \"Bình thường\")\n",
    "elif BMI >= 17:\n",
    "    print(\"BMI = \",BMI, \"Gầy cấp độ I\")\n",
    "elif BMI >= 16:\n",
    "    print(\"BMI = \",BMI, \"Gầy cấp độ II\")\n",
    "else:\n",
    "    print(\"BMI = \",BMI, \"Gầy cấp độ III\")"
   ]
  },
  {
   "cell_type": "markdown",
   "id": "f7620342",
   "metadata": {},
   "source": [
    "### Bài 7\n",
    "\n",
    "Nhập ngày, tháng, năm. Hãy tính và in ra màn hình kể từ đầu năm đến ngày vừa nhập là bao nhiêu ngày."
   ]
  },
  {
   "cell_type": "code",
   "execution_count": 3,
   "id": "4c57f0a5",
   "metadata": {},
   "outputs": [
    {
     "name": "stdout",
     "output_type": "stream",
     "text": [
      "Nhập ngày: 5\n",
      "Nhập tháng: 2\n",
      "Nhập năm: 2000\n",
      "Đầu năm đến ngày vừa nhập là: 36 ngày\n"
     ]
    }
   ],
   "source": [
    "ngay = int(input('Nhập ngày: '))\n",
    "thang = int(input('Nhập tháng: '))\n",
    "nam = int(input('Nhập năm: '))\n",
    "tong = 0\n",
    "thang_tam=1\n",
    "#tong so ngay\n",
    "for i in range(1,thang):\n",
    "    if thang_tam == 1 or 3 or 5 or 7 or 8 or 10 or 12:\n",
    "        tong+=31\n",
    "    elif thang_tam == 4 or 6 or 9 or 11:\n",
    "        tong+=30\n",
    "    else:\n",
    "        if nam%4==0:\n",
    "            tong+=29\n",
    "        else:\n",
    "            tong+=28\n",
    "tong+=ngay\n",
    "print(\"Đầu năm đến ngày vừa nhập là:\",tong, \"ngày\")"
   ]
  }
 ],
 "metadata": {
  "kernelspec": {
   "display_name": "Python 3 (ipykernel)",
   "language": "python",
   "name": "python3"
  },
  "language_info": {
   "codemirror_mode": {
    "name": "ipython",
    "version": 3
   },
   "file_extension": ".py",
   "mimetype": "text/x-python",
   "name": "python",
   "nbconvert_exporter": "python",
   "pygments_lexer": "ipython3",
   "version": "3.10.7"
  }
 },
 "nbformat": 4,
 "nbformat_minor": 5
}
