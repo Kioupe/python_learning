{
 "cells": [
  {
   "cell_type": "code",
   "execution_count": 2,
   "id": "2099fed8",
   "metadata": {},
   "outputs": [
    {
     "name": "stdout",
     "output_type": "stream",
     "text": [
      "nhập số:\n",
      "10\n",
      "số: 10 chia hết cho 5\n"
     ]
    }
   ],
   "source": [
    "print(\"nhập số:\")\n",
    "a=int(input())\n",
    "if a%5==0:\n",
    "    print(\"số\",a,\"chia hết cho 5\")\n",
    "else:\n",
    "    print(\"số\",a,\"không chia hết cho 5\")"
   ]
  },
  {
   "cell_type": "code",
   "execution_count": 6,
   "id": "bef7f7dd",
   "metadata": {},
   "outputs": [
    {
     "name": "stdout",
     "output_type": "stream",
     "text": [
      "Nhập độ C:\n",
      "50\n",
      "<class 'int'>\n",
      "độ f = 122.0\n"
     ]
    }
   ],
   "source": [
    "print(\"Nhập độ C:\")\n",
    "c=int(input())\n",
    "print(type(c))\n",
    "f=c*1.8+32\n",
    "print(\"độ f =\",f)"
   ]
  }
 ],
 "metadata": {
  "kernelspec": {
   "display_name": "Python 3 (ipykernel)",
   "language": "python",
   "name": "python3"
  },
  "language_info": {
   "codemirror_mode": {
    "name": "ipython",
    "version": 3
   },
   "file_extension": ".py",
   "mimetype": "text/x-python",
   "name": "python",
   "nbconvert_exporter": "python",
   "pygments_lexer": "ipython3",
   "version": "3.10.7"
  }
 },
 "nbformat": 4,
 "nbformat_minor": 5
}
