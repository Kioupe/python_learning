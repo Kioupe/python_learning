{
 "cells": [
  {
   "cell_type": "code",
   "execution_count": 8,
   "id": "6bccb690",
   "metadata": {},
   "outputs": [
    {
     "name": "stdout",
     "output_type": "stream",
     "text": [
      " nhập lương của bạn:\n",
      "20000\n",
      "lương của bạn là: 20000\n"
     ]
    }
   ],
   "source": [
    "print(\" nhập lương của bạn:\")\n",
    "luong=int(input())\n",
    "if luong>2000000:\n",
    "    print(\"lương của bạn là:\",luong*0.9)\n",
    "else:\n",
    "    print(\"lương của bạn là:\",luong)"
   ]
  },
  {
   "cell_type": "code",
   "execution_count": 9,
   "id": "20ffaf2b",
   "metadata": {},
   "outputs": [
    {
     "name": "stdout",
     "output_type": "stream",
     "text": [
      "Nhập lương của bạn:\n",
      "500\n",
      "còn cái nịt :/)\n"
     ]
    }
   ],
   "source": [
    "print(\"Nhập lương của bạn:\")\n",
    "luong=int(input())\n",
    "if luong>10000000:\n",
    "    print(\"lương được vợ cấp là:\",luong*0.1)\n",
    "else:\n",
    "    print(\"còn cái nịt :/)\")"
   ]
  },
  {
   "cell_type": "code",
   "execution_count": 18,
   "id": "72fa00de",
   "metadata": {},
   "outputs": [
    {
     "name": "stdout",
     "output_type": "stream",
     "text": [
      "nhập số điểm toán của bạn:\n",
      "5\n",
      "nhập số điểm văn của bạn:\n",
      "6\n",
      "Không phải học sinh giỏi\n"
     ]
    }
   ],
   "source": [
    "print(\"nhập số điểm toán của bạn:\")\n",
    "toan=float(input())\n",
    "print(\"nhập số điểm văn của bạn:\")\n",
    "van=float(input())\n",
    "diemtrungbinh=(van+toan)/2\n",
    "if diemtrungbinh>8:\n",
    "    print(\" Học sinh giỏi\")\n",
    "else:\n",
    "    print(\"Không phải học sinh giỏi\")"
   ]
  },
  {
   "cell_type": "code",
   "execution_count": null,
   "id": "45232e57",
   "metadata": {},
   "outputs": [],
   "source": [
    "print(\"nhập số:\")\n",
    "a=int(input())\n",
    "if a%5==0:\n",
    "    print(\"số:\",a,\"chia hết cho 5\")\n",
    "else:\n",
    "    print(\"số:\",a,\"không chia hết cho 5\")"
   ]
  },
  {
   "cell_type": "code",
   "execution_count": null,
   "id": "d0639a3e",
   "metadata": {},
   "outputs": [],
   "source": [
    "print(\"nhập số:\")\n",
    "a=int(input())\n",
    "if a>=8:\n",
    "    print(\"Học sinh giỏi\")\n",
    "elseif a>=6:\n",
    "    print(\"Học sinh khá\")\n",
    "else:\n",
    "    print(\"Học sinh trung bình\")"
   ]
  }
 ],
 "metadata": {
  "kernelspec": {
   "display_name": "Python 3 (ipykernel)",
   "language": "python",
   "name": "python3"
  },
  "language_info": {
   "codemirror_mode": {
    "name": "ipython",
    "version": 3
   },
   "file_extension": ".py",
   "mimetype": "text/x-python",
   "name": "python",
   "nbconvert_exporter": "python",
   "pygments_lexer": "ipython3",
   "version": "3.10.7"
  }
 },
 "nbformat": 4,
 "nbformat_minor": 5
}
