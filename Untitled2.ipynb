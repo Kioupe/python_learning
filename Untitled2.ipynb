{
 "cells": [
  {
   "cell_type": "code",
   "execution_count": 1,
   "id": "20cb565b",
   "metadata": {},
   "outputs": [
    {
     "name": "stdout",
     "output_type": "stream",
     "text": [
      "số bạn nghĩ có so với 50\n",
      "nếu số bạn nghĩ nhập (đúng số)[0]/ (lớn hơn)[1]/ (nhỏ hơn)[-1]-1\n",
      "số bạn nghĩ có so với 25\n",
      "nếu số bạn nghĩ nhập (đúng số)[0]/ (lớn hơn)[1]/ (nhỏ hơn)[-1]-1\n",
      "số bạn nghĩ có so với 12\n",
      "nếu số bạn nghĩ nhập (đúng số)[0]/ (lớn hơn)[1]/ (nhỏ hơn)[-1]-1\n",
      "số bạn nghĩ có so với 6\n",
      "nếu số bạn nghĩ nhập (đúng số)[0]/ (lớn hơn)[1]/ (nhỏ hơn)[-1]1\n",
      "số bạn nghĩ có so với 9\n",
      "nếu số bạn nghĩ nhập (đúng số)[0]/ (lớn hơn)[1]/ (nhỏ hơn)[-1]1\n",
      "số bạn nghĩ có so với 10\n",
      "nếu số bạn nghĩ nhập (đúng số)[0]/ (lớn hơn)[1]/ (nhỏ hơn)[-1]1\n",
      "số bạn nghĩ có so với 11\n",
      "nếu số bạn nghĩ nhập (đúng số)[0]/ (lớn hơn)[1]/ (nhỏ hơn)[-1]0\n",
      "Số bạn chọn là: 11.71875\n",
      "11.71875\n"
     ]
    }
   ],
   "source": [
    "import random\n",
    "kq=50\n",
    "tam1=0\n",
    "tam2=100\n",
    "for i in range(7):\n",
    "   \n",
    "    print(\"số bạn nghĩ có so với\",int(kq))\n",
    "    answer=int(input(\"nếu số bạn nghĩ nhập (đúng số)[0]/ (lớn hơn)[1]/ (nhỏ hơn)[-1]\"))\n",
    "    if answer == 0:\n",
    "        print('Số bạn chọn là:',int(kq))\n",
    "        break\n",
    "    if answer == 1:  \n",
    "        tam1=tam1+(tam2-tam1)/2\n",
    "        kq=tam1+(tam2-tam1)/2\n",
    "    else:    \n",
    "        tam2=tam1+(tam2-tam1)/2\n",
    "        kq=tam1+(tam2-tam1)/2\n",
    "print(kq)"
   ]
  },
  {
   "cell_type": "code",
   "execution_count": null,
   "id": "54d5365e",
   "metadata": {},
   "outputs": [],
   "source": []
  }
 ],
 "metadata": {
  "kernelspec": {
   "display_name": "Python 3 (ipykernel)",
   "language": "python",
   "name": "python3"
  },
  "language_info": {
   "codemirror_mode": {
    "name": "ipython",
    "version": 3
   },
   "file_extension": ".py",
   "mimetype": "text/x-python",
   "name": "python",
   "nbconvert_exporter": "python",
   "pygments_lexer": "ipython3",
   "version": "3.10.7"
  }
 },
 "nbformat": 4,
 "nbformat_minor": 5
}
