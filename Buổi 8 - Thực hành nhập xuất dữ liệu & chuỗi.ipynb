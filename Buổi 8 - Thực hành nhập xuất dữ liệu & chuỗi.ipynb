{
 "cells": [
  {
   "cell_type": "markdown",
   "id": "5bc93fb0",
   "metadata": {},
   "source": [
    "# Thực hành nhập xuất dữ liệu & chuỗi\n",
    "\n",
    "### Bài tập tra cứu lệnh\n",
    "\n",
    "Nhập vào một chuỗi, kiểm tra xem chuỗi đó có ký tự nào là chữ in hoa hay không, nếu có thì in True, không có thì in False"
   ]
  },
  {
   "cell_type": "code",
   "execution_count": 3,
   "id": "4b3df2ba",
   "metadata": {},
   "outputs": [
    {
     "name": "stdout",
     "output_type": "stream",
     "text": [
      "Nhập chuỗi: AA\n",
      "Kiểm tra chuỗi có ký tự in hoa:  True\n"
     ]
    }
   ],
   "source": [
    "chuoi=input(\"Nhập chuỗi: \")\n",
    "print(\"Kiểm tra chuỗi có ký tự in hoa: \", not chuoi.islower())"
   ]
  },
  {
   "cell_type": "markdown",
   "id": "e14eae7c",
   "metadata": {},
   "source": [
    "Nhập vào một chuỗi, kiểm tra xem chuỗi đó có ký tự nào là chữ in thường hay không, nếu có thì in True, không có thì in False"
   ]
  },
  {
   "cell_type": "code",
   "execution_count": null,
   "id": "ab00180c",
   "metadata": {},
   "outputs": [],
   "source": [
    "chuoi=input(\"Nhập chuỗi: \")\n",
    "print(\"Kiểm tra chuỗi có ký tự in thường : \", not chuoi.isupper())"
   ]
  },
  {
   "cell_type": "markdown",
   "id": "eab86ecf",
   "metadata": {},
   "source": [
    "Nhập vào một chuỗi a và chuỗi b, tìm vị trí đầu tiên xuất hiện chuỗi b trong chuỗi a"
   ]
  },
  {
   "cell_type": "code",
   "execution_count": 4,
   "id": "051eb4af",
   "metadata": {},
   "outputs": [
    {
     "name": "stdout",
     "output_type": "stream",
     "text": [
      "Nhập chuỗi a: abcd efgh\n",
      "Nhập chuỗi b: cd\n",
      "2\n"
     ]
    }
   ],
   "source": [
    "a=input(\"Nhập chuỗi a: \")\n",
    "b=input(\"Nhập chuỗi b: \")\n",
    "print(a.find(b))"
   ]
  },
  {
   "cell_type": "markdown",
   "id": "9239bc4e",
   "metadata": {},
   "source": [
    "Nhập vào một chuỗi a, hãy xóa từ đầu tiên trong chuỗi a, rồi in ra màn hình"
   ]
  },
  {
   "cell_type": "code",
   "execution_count": 4,
   "id": "90967cd9",
   "metadata": {},
   "outputs": [
    {
     "name": "stdout",
     "output_type": "stream",
     "text": [
      "Nhập chuỗi a: cin chso cac ban\n",
      "chso cac ban\n"
     ]
    }
   ],
   "source": [
    "a=input(\"Nhập chuỗi a: \")\n",
    "vitri=a.find(' ')\n",
    "#vitri=a.rfind('a') #tìm từ bên phải\n",
    "print(a[(vitri+1):])"
   ]
  },
  {
   "cell_type": "markdown",
   "id": "05b74fb4",
   "metadata": {},
   "source": [
    "### Bài 1\n",
    "\n",
    "Nhập vào một chuỗi, đếm xem có bao nhiêu từ trong chuỗi kết thúc bằng chữ n"
   ]
  },
  {
   "cell_type": "code",
   "execution_count": 22,
   "id": "d126675c",
   "metadata": {},
   "outputs": [
    {
     "name": "stdout",
     "output_type": "stream",
     "text": [
      "Nhập chuỗi a: jfkds fjdklsn jfk\n",
      "Có 1 từ trong chuỗi kết thúc bằng n.\n"
     ]
    }
   ],
   "source": [
    "a=input(\"Nhập chuỗi a: \")\n",
    "tam=a.count('n ')\n",
    "if a[-1] == 'n':\n",
    "    tam+=1\n",
    "print(\"Có\",tam,\"từ trong chuỗi kết thúc bằng n.\")"
   ]
  },
  {
   "cell_type": "code",
   "execution_count": 23,
   "id": "3e00e53d",
   "metadata": {},
   "outputs": [
    {
     "name": "stdout",
     "output_type": "stream",
     "text": [
      "Nhập chuỗi a: bui huyen tran\n",
      "Có 2 từ trong chuỗi kết thúc bằng n.\n"
     ]
    }
   ],
   "source": [
    "a=input(\"Nhập chuỗi a: \")\n",
    "tam=a.count('n ')\n",
    "tong=tam+a[-1].count('n')\n",
    "print(\"Có\",tong,\"từ trong chuỗi kết thúc bằng n.\")"
   ]
  },
  {
   "cell_type": "markdown",
   "id": "53a78d35",
   "metadata": {},
   "source": [
    "### Bài 2\n",
    "\n",
    "Nhập vào một chuỗi, kiểm tra xem chuỗi đó có ký tự hoa hoặc ký tự thường hay không."
   ]
  },
  {
   "cell_type": "code",
   "execution_count": 1,
   "id": "f5be8c39",
   "metadata": {},
   "outputs": [
    {
     "name": "stdout",
     "output_type": "stream",
     "text": [
      "Nhập chuỗi a: fdhfkjaAFSDf\n",
      "Chuỗi có cả ký tự hoa và ký tự thường.\n"
     ]
    }
   ],
   "source": [
    "a=input(\"Nhập chuỗi a: \")\n",
    "if a.islower()==1:\n",
    "    print(\"Chuỗi chỉ có ký tự thường.\")\n",
    "else: \n",
    "    if a.isupper()==1:\n",
    "        print(\"Chuỗi chỉ có ký tự hoa.\")\n",
    "    else:\n",
    "        print(\"Chuỗi có cả ký tự hoa và ký tự thường.\")"
   ]
  },
  {
   "cell_type": "markdown",
   "id": "64ca662e",
   "metadata": {},
   "source": [
    "### Bài 3\n",
    "\n",
    "Nhập vào một chuỗi, kiểm tra tính đối xứng của chuỗi đó"
   ]
  },
  {
   "cell_type": "code",
   "execution_count": null,
   "id": "749f4136",
   "metadata": {},
   "outputs": [],
   "source": [
    "a=input(\"Nhập chuỗi a: \")\n",
    "a_cut=a[::-1] #cắt ngược chuỗi\n",
    "if a==a_cut:\n",
    "    print(\"Chuỗi a là chuỗi đối xứng.\")\n",
    "else:\n",
    "    print(\"Chuỗi a là chuỗi không đối xứng\")"
   ]
  },
  {
   "cell_type": "markdown",
   "id": "85dd8fef",
   "metadata": {},
   "source": [
    "### Bài 4\n",
    "\n",
    "Nhập vào một chuỗi, in ra các ký tự trong chuỗi và nếu là ký tự hoa thì in kèm True, ký tự thường thì in kèm False"
   ]
  },
  {
   "cell_type": "code",
   "execution_count": 10,
   "id": "0d099247",
   "metadata": {},
   "outputs": [
    {
     "name": "stdout",
     "output_type": "stream",
     "text": [
      "bui huyen Trang\n",
      "b - False\n",
      "u - False\n",
      "i - False\n",
      "  - False\n",
      "h - False\n",
      "u - False\n",
      "y - False\n",
      "e - False\n",
      "n - False\n",
      "  - False\n",
      "T - True\n",
      "r - False\n",
      "a - False\n",
      "n - False\n",
      "g - False\n"
     ]
    }
   ],
   "source": [
    "chuoi=input()\n",
    "a=len(chuoi)\n",
    "for i in range(a):\n",
    "    print(chuoi[i],'-',chuoi[i].isupper())\n",
    "    "
   ]
  },
  {
   "cell_type": "markdown",
   "id": "1373dc74",
   "metadata": {},
   "source": [
    "### Bài 5\n",
    "\n",
    "Nhập vào một chuỗi, tìm các ký tự chỉ xuất hiện một lần trong chuỗi (nếu xuất hiện 1 lần in true, xuất hiện nhiều lần in false)\n",
    "\n",
    "Ví dụ:\n",
    "\n",
    "Nhập chuỗi: \"ABAbc\"\n",
    "\n",
    "In:\n",
    "\n",
    "A: False\n",
    "\n",
    "B: True\n",
    "\n",
    "A: False\n",
    "\n",
    "b: True\n",
    "\n",
    "c: True"
   ]
  },
  {
   "cell_type": "code",
   "execution_count": 7,
   "id": "a93bc53d",
   "metadata": {},
   "outputs": [
    {
     "name": "stdout",
     "output_type": "stream",
     "text": [
      "ABAbc\n",
      "A :  False\n",
      "B :  True\n",
      "A :  False\n",
      "b :  True\n",
      "c :  True\n"
     ]
    }
   ],
   "source": [
    "chuoi=input()\n",
    "a=len(chuoi)\n",
    "for i in range(a):\n",
    "    if chuoi.count(chuoi[i])==1:\n",
    "        print(chuoi[i],': ','True')\n",
    "    else:\n",
    "        print(chuoi[i],': ','False')\n",
    "    i=i+1"
   ]
  },
  {
   "cell_type": "markdown",
   "id": "69bebf4c",
   "metadata": {},
   "source": [
    "### Bài 6\n",
    "\n",
    "Nhập vào một chuỗi, kiểm tra trong chuỗi có con số hay không, nếu có in True, không có in False"
   ]
  },
  {
   "cell_type": "code",
   "execution_count": 11,
   "id": "1b4eab4f",
   "metadata": {},
   "outputs": [
    {
     "name": "stdout",
     "output_type": "stream",
     "text": [
      "Nhập chuỗi: 564165465\n",
      "Kiểm tra chuỗi có con số:  True\n"
     ]
    }
   ],
   "source": [
    "chuoi=input(\"Nhập chuỗi: \")\n",
    "print(\"Kiểm tra chuỗi có con số: \", not chuoi.isalpha())\n",
    "#isdigit()"
   ]
  },
  {
   "cell_type": "markdown",
   "id": "1e51403c",
   "metadata": {},
   "source": [
    "### Bài 7\n",
    "\n",
    "Nhập vào một chuỗi, tách những con số có trong chuỗi ra rồi tính tổng của chúng\n",
    "\n",
    "In tổng lên màn hình"
   ]
  },
  {
   "cell_type": "code",
   "execution_count": 2,
   "id": "a34e349d",
   "metadata": {},
   "outputs": [
    {
     "name": "stdout",
     "output_type": "stream",
     "text": [
      "12 jfdkljfl 345\n",
      "Tổng bằng:  15\n"
     ]
    }
   ],
   "source": [
    "chuoi=input()\n",
    "a=len(chuoi)\n",
    "tong=0\n",
    "for i in range(a):\n",
    "    if chuoi[i].isdigit()==1:\n",
    "        tong+=int(chuoi[i])\n",
    "print(\"Tổng của những con số được tách trong chuỗi bằng: \",tong)"
   ]
  },
  {
   "cell_type": "markdown",
   "id": "e951779d",
   "metadata": {},
   "source": [
    "### Bài 8\n",
    "\n",
    "Nhập vào một chuỗi, đảo ngược chuỗi đã nhập rồi in ra màn hình"
   ]
  },
  {
   "cell_type": "code",
   "execution_count": 3,
   "id": "9305f0f1",
   "metadata": {},
   "outputs": [
    {
     "name": "stdout",
     "output_type": "stream",
     "text": [
      "Nhập chuỗi a: abcdf\n",
      "fdcba\n"
     ]
    }
   ],
   "source": [
    "a=input(\"Nhập chuỗi a: \")\n",
    "a_cut=a[::-1] #cắt ngược chuỗi\n",
    "print(a_cut)"
   ]
  },
  {
   "cell_type": "markdown",
   "id": "04194b5c",
   "metadata": {},
   "source": [
    "### Bài 9\n",
    "\n",
    "Nhập vào một chuỗi, kiểm tra xem mỗi từ trong chuỗi có được viết hoa chữ cái đầu hay không, nếu tất cả đều được viết hoa thì in ra True, còn không thì in ra False\n",
    "\n",
    "Trong trường hợp là False, hãy viết hoa tất cả các chữ cái đầu của mỗi từ rồi in lên màn hình\n",
    "\n",
    "Cách làm thông thường:"
   ]
  },
  {
   "cell_type": "code",
   "execution_count": 1,
   "id": "9f947c7d",
   "metadata": {},
   "outputs": [
    {
     "name": "stdout",
     "output_type": "stream",
     "text": [
      "Nhập chuỗi a: nguyễn văn a\n",
      "False\n",
      "Nguyễn Văn A\n"
     ]
    }
   ],
   "source": [
    "a=input(\"Nhập chuỗi a: \")\n",
    "#số lượng từ\n",
    "b=a.count(' ')+1 #đếm số lượng từ của chuỗi bằng cách  => đếm khoảng trắng + 1\n",
    "tam=a # gán tam bằng a để không làm thay đổi giá trị của a\n",
    "kt=tam[0].isupper()  #kiểm tra xem ký tự đầu tiên của chuỗi có được viết in hoa hay không\n",
    "chuoi_moi='' #khởi tạo một chuỗi mới \n",
    "for i in range(b): # vòng for với range bằng số lượng từ trong chuỗi\n",
    "    kt=kt and tam[0].isupper()   # trả về true nếu ký tự đầu tiên sau dấu cách có viết hoa hay không \n",
    "    vt=tam.find(' ') #tìm vị trí của khoảng trắng - tìm vị trí của khoảng trắng trước ký tự đầu tiên của từ tiếp theo\n",
    "    if i<(b-1): #kiểm tra từ nếu không phải từ cuối cùng\n",
    "        #viết hoa chữ cái đầu của các từ trong chuỗi mới \n",
    "        chuoi_moi=chuoi_moi+tam[0].upper()+tam[1:(vt+1)]+\"\"\n",
    "        #nếu ta nhập a=\"nguyễn văn a\"\n",
    "        #vòng 1: chuoi_moi = \"Nguyễn\"\n",
    "        #vòng 2: chuoi_moi = \"Nguyễn Văn\"\n",
    "        #vòng 3: không được thực hiện ở vòng if này mà được thực hiện ở vòng else sau do đây là đây là từ cuối cùng của chuỗi\n",
    "    else: #kiểm tra nếu là từ cuối cùng của chuỗi\n",
    "        #lấy từ cuối cùng \n",
    "        chuoi_moi=chuoi_moi+tam[0].upper()+tam[1:]+\"\"\n",
    "    #lấy chuỗi mới bằng chuỗi cũ trừ các từ đã kiểm tra\n",
    "    tam=tam[(vt+1):] #chuỗi tam sẽ bằng chuỗi tạm cũ trừ đi từ đã kiểm tra ||| vt là vị trí khoảng trắng ta đã gán trước đó\n",
    "    #ví dụ\n",
    "    #nếu ta nhập a=\"nguyễn văn a\"\n",
    "    #tam ở vòng lặp đầu tiên sau khi cắt chuỗi là: văn a\n",
    "    #tam ở vòng lặp thứ 2 là : a\n",
    "    #tam ở vòng lặp thứ 3 là : rỗng - do hết ký tự trắng\n",
    "print(kt)\n",
    "#kiểm tra sẽ trả về true hoặc false sau khi được kiểm tra ở vòng lặp for\n",
    "#nếu sai in ra chuỗi mới\n",
    "if kt==0:    \n",
    "    #in ra chuỗi mơí\n",
    "    print(chuoi_moi) #output : \"chuỗi a được viết hoa các ký tự đầu tiên trong các từ của chuỗi\""
   ]
  },
  {
   "cell_type": "code",
   "execution_count": 1,
   "id": "428763db",
   "metadata": {},
   "outputs": [
    {
     "name": "stdout",
     "output_type": "stream",
     "text": [
      "Nhập chuỗi a: bui huyen trang\n",
      "False\n",
      "Bui Huyen Trang \n"
     ]
    }
   ],
   "source": [
    "a=input(\"Nhập chuỗi a: \")\n",
    "#số lượng từ\n",
    "b=a.count(' ')+1\n",
    "tam=a+' '\n",
    "kt=tam[0].isupper() \n",
    "chuoi_moi=''\n",
    "for i in range(b):\n",
    "    kt=kt and tam[0].isupper()    \n",
    "    vt=tam.find(' ')\n",
    "    #viết hoa chữ cái đầu của các từ\n",
    "    chuoi_moi=chuoi_moi+tam[0].upper()+tam[1:(vt+1)]+\"\"\n",
    "    tam=tam[(vt+1):] \n",
    "print(kt)\n",
    "#In ra chuỗi mới\n",
    "print(chuoi_moi)"
   ]
  },
  {
   "cell_type": "markdown",
   "id": "f43e32af",
   "metadata": {},
   "source": [
    "Cách sử dụng lệnh có sẵn:"
   ]
  },
  {
   "cell_type": "code",
   "execution_count": 2,
   "id": "714f1412",
   "metadata": {},
   "outputs": [
    {
     "name": "stdout",
     "output_type": "stream",
     "text": [
      "Nhập chuỗi a: nguyễn văn a và nguyên VĂN B\n",
      "False\n",
      "Nguyễn Văn A Và Nguyên Văn B\n"
     ]
    }
   ],
   "source": [
    "a=input(\"Nhập chuỗi a: \")\n",
    "print(a.istitle())  \n",
    "print(a.title())"
   ]
  },
  {
   "cell_type": "code",
   "execution_count": null,
   "id": "a8c5792b",
   "metadata": {},
   "outputs": [],
   "source": []
  },
  {
   "cell_type": "code",
   "execution_count": null,
   "id": "67c2b4c3",
   "metadata": {},
   "outputs": [],
   "source": []
  }
 ],
 "metadata": {
  "kernelspec": {
   "display_name": "Python 3 (ipykernel)",
   "language": "python",
   "name": "python3"
  },
  "language_info": {
   "codemirror_mode": {
    "name": "ipython",
    "version": 3
   },
   "file_extension": ".py",
   "mimetype": "text/x-python",
   "name": "python",
   "nbconvert_exporter": "python",
   "pygments_lexer": "ipython3",
   "version": "3.10.7"
  }
 },
 "nbformat": 4,
 "nbformat_minor": 5
}
