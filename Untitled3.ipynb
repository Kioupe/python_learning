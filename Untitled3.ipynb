{
 "cells": [
  {
   "cell_type": "markdown",
   "id": "2a1b4f47",
   "metadata": {},
   "source": [
    "Nhập vào số a, kiểm tra coi a có phải là số nguyên dương hay không! Nếu a là số nguyên dương, in ra \"Nhập đúng quy định\", nếu a không là số nguyên dương, yêu cầu nhập lại"
   ]
  },
  {
   "cell_type": "code",
   "execution_count": 3,
   "id": "547dc82d",
   "metadata": {
    "scrolled": true
   },
   "outputs": [
    {
     "name": "stdout",
     "output_type": "stream",
     "text": [
      "Nhập a: -15\n",
      "Mời nhập lại.\n",
      "Nhập a: -8\n",
      "Mời nhập lại.\n",
      "Nhập a: 0\n",
      "Nhập đúng quy định.\n"
     ]
    }
   ],
   "source": [
    "a=float(input(\"Nhập a: \"))\n",
    "while True:\n",
    "    if a%1==0 and a>=0:\n",
    "        print(\"Nhập đúng quy định.\")\n",
    "        break\n",
    "    else:\n",
    "        print(\"Mời nhập lại.\")\n",
    "        a=float(input(\"Nhập a: \"))\n"
   ]
  },
  {
   "cell_type": "markdown",
   "id": "51cc9f07",
   "metadata": {},
   "source": [
    "Nhập vào một số nguyên dương a, đếm các ước chẳn của số a"
   ]
  },
  {
   "cell_type": "code",
   "execution_count": 7,
   "id": "cd1b3ed8",
   "metadata": {},
   "outputs": [
    {
     "name": "stdout",
     "output_type": "stream",
     "text": [
      "Nhập a: 80\n",
      "80 có 8 ước chẵn \n"
     ]
    }
   ],
   "source": [
    "a=int(input(\"Nhập a: \"))\n",
    "#kiểm tra nhập\n",
    "while a!=int(a) or a<0:\n",
    "    a=float(input(\"Nhập a: \"))\n",
    "#đếm ước\n",
    "dem=0\n",
    "uoc=1\n",
    "while uoc<=a:\n",
    "    if a%uoc==0 and uoc%2==0:\n",
    "        dem+=1\n",
    "    uoc=uoc+1\n",
    "print(a,\"có\",dem,\"ước chẵn \")"
   ]
  },
  {
   "cell_type": "markdown",
   "id": "6d43c8d9",
   "metadata": {},
   "source": [
    "Nhập vào số nguyên dương a và b, in ra những ước chung của a và b"
   ]
  },
  {
   "cell_type": "code",
   "execution_count": 6,
   "id": "0805dffb",
   "metadata": {},
   "outputs": [
    {
     "name": "stdout",
     "output_type": "stream",
     "text": [
      "Nhập a: 5\n",
      "Nhập b: 10\n",
      "1\n",
      "5\n"
     ]
    }
   ],
   "source": [
    "#kiểm tra nhập\n",
    "a=int(input(\"Nhập a: \"))\n",
    "while a!=int(a) or a<0:\n",
    "    a=float(input(\"Nhập a: \"))\n",
    "b=int(input(\"Nhập b: \"))\n",
    "while b<0 or b!=int(b):\n",
    "    b=float(input(\"Nhập b: \"))\n",
    "#ước chung\n",
    "uoc=1\n",
    "while uoc<=a or uoc<=b:\n",
    "    if a%uoc==0 and b%uoc==0:\n",
    "        print(uoc)\n",
    "    uoc=uoc+1"
   ]
  },
  {
   "cell_type": "markdown",
   "id": "3e583759",
   "metadata": {},
   "source": [
    "Nhập vào số nguyên dương a và b, in ra ước chung lón nhất của a và b"
   ]
  },
  {
   "cell_type": "code",
   "execution_count": 4,
   "id": "3b7f4af6",
   "metadata": {},
   "outputs": [
    {
     "name": "stdout",
     "output_type": "stream",
     "text": [
      "Nhập a: 80\n",
      "Nhập b: 40\n",
      "ước chung lón nhất của a và b là: 40\n"
     ]
    }
   ],
   "source": [
    "#kiểm tra nhập\n",
    "a=int(input(\"Nhập a: \"))\n",
    "while a!=int(a) or a<0:\n",
    "    a=float(input(\"Nhập a: \"))\n",
    "b=int(input(\"Nhập b: \"))\n",
    "while b<0 or b!=int(b):\n",
    "    b=float(input(\"Nhập b: \"))\n",
    "#ước chung\n",
    "uoc=1\n",
    "uoc_lon_nhat=1\n",
    "while uoc<=a or uoc<=b:\n",
    "    uoc=uoc+1\n",
    "    if a%uoc==0 and b%uoc==0:\n",
    "        uoc_lon_nhat=uoc\n",
    "print(\"ước chung lón nhất của a và b là:\",uoc_lon_nhat)"
   ]
  },
  {
   "cell_type": "markdown",
   "id": "77be83a5",
   "metadata": {},
   "source": [
    "Nhập vào số nguyên dương n, hãy in các số chính phương bé hơn n"
   ]
  },
  {
   "cell_type": "code",
   "execution_count": null,
   "id": "4d1df11b",
   "metadata": {},
   "outputs": [],
   "source": [
    "a=int(input(\"Nhập a:\"))\n",
    "if a>0:\n",
    "    if (a**(1/2))%1==0:\n",
    "        print(a,\"là số chính phương.\")\n",
    "    else:\n",
    "        print(a,\"không phải số chính phương.\")\n",
    "else:\n",
    "    print(\"bạn phải nhập số lớn hơn 0\")"
   ]
  },
  {
   "cell_type": "code",
   "execution_count": 9,
   "id": "82f055d2",
   "metadata": {},
   "outputs": [
    {
     "name": "stdout",
     "output_type": "stream",
     "text": [
      "Nhập a: 100\n",
      "1\n",
      "4\n",
      "9\n",
      "16\n",
      "25\n",
      "36\n",
      "49\n",
      "64\n",
      "81\n"
     ]
    }
   ],
   "source": [
    "a=int(input(\"Nhập a: \"))\n",
    "#kiểm tra nhập\n",
    "while a!=int(a) or a<0:\n",
    "    a=float(input(\"Nhập a: \"))\n",
    "#số chính phương\n",
    "tam=1\n",
    "while tam<a:\n",
    "    if (tam**(1/2))%1==0:\n",
    "        print(tam)\n",
    "    tam+=1"
   ]
  },
  {
   "cell_type": "markdown",
   "id": "cad81393",
   "metadata": {},
   "source": [
    "Số hoàn hảo là số có tổng các ước (không bao gồm nó) của nó bằng chính nó\n",
    "\n",
    "Ví dụ: số 6 là số hoàn hảo vì số 6 có các ước 1, 2, 3. Các ước này cộng lại ra 6.\n",
    "\n",
    "Nhập vào số nguyên dương a, kiểm tra xem a có phải là số hoàn hảo hay không."
   ]
  },
  {
   "cell_type": "code",
   "execution_count": null,
   "id": "b28a66c8",
   "metadata": {},
   "outputs": [],
   "source": []
  },
  {
   "cell_type": "markdown",
   "id": "0fd63b5c",
   "metadata": {},
   "source": [
    "Nhập vào một số nguyên dương, hãy đếm xem a có bao nhiêu chữ số"
   ]
  },
  {
   "cell_type": "code",
   "execution_count": null,
   "id": "8a04422e",
   "metadata": {},
   "outputs": [],
   "source": []
  },
  {
   "cell_type": "markdown",
   "id": "e4358453",
   "metadata": {},
   "source": [
    "Nhập vào một số nguyên dương a, hãy tính tổng các chữ số của a"
   ]
  },
  {
   "cell_type": "code",
   "execution_count": null,
   "id": "8435e6c9",
   "metadata": {},
   "outputs": [],
   "source": []
  }
 ],
 "metadata": {
  "kernelspec": {
   "display_name": "Python 3 (ipykernel)",
   "language": "python",
   "name": "python3"
  },
  "language_info": {
   "codemirror_mode": {
    "name": "ipython",
    "version": 3
   },
   "file_extension": ".py",
   "mimetype": "text/x-python",
   "name": "python",
   "nbconvert_exporter": "python",
   "pygments_lexer": "ipython3",
   "version": "3.10.7"
  }
 },
 "nbformat": 4,
 "nbformat_minor": 5
}
